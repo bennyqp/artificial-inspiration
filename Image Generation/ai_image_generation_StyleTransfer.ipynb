{
  "nbformat": 4,
  "nbformat_minor": 0,
  "metadata": {
    "accelerator": "GPU",
    "colab": {
      "name": "ai_image-generation_StyleTransfer.ipynb",
      "provenance": [],
      "collapsed_sections": [],
      "toc_visible": true,
      "include_colab_link": true
    },
    "kernelspec": {
      "display_name": "Python 3",
      "name": "python3"
    }
  },
  "cells": [
    {
      "cell_type": "markdown",
      "metadata": {
        "id": "view-in-github",
        "colab_type": "text"
      },
      "source": [
        "<a href=\"https://colab.research.google.com/github/bennyqp/artificial-inspiration/blob/main/Image%20Generation/ai_image_generation_StyleTransfer.ipynb\" target=\"_parent\"><img src=\"https://colab.research.google.com/assets/colab-badge.svg\" alt=\"Open In Colab\"/></a>"
      ]
    },
    {
      "cell_type": "markdown",
      "metadata": {
        "id": "Gz6wRvFxLdqY"
      },
      "source": [
        "# Batch Style Transfer\n",
        "\n",
        "This notebook lets you randomly apply image styles from images in one image dataset to images in a second dataset. \n",
        "\n",
        "_"
      ]
    },
    {
      "cell_type": "markdown",
      "metadata": {
        "id": "bTyGyouc5T4T"
      },
      "source": [
        "This notebook is based on the \n",
        "#Original StyleTransfer Notebook by Derrick Schulz\n",
        "You can find the original here:\n",
        "\n",
        "https://github.com/dvschultz/ai/blob/master/neural_style_tf.ipynb\n",
        "\n",
        "Also, this notebook uses a fork from the Neural Style Library with modifications by Derrick Schulz:\n",
        "\n",
        "https://github.com/dvschultz/neural-style-tf\n",
        "\n",
        "_\n",
        "\n",
        "This notebook was modified for batch processing as part of the \"Artificial Inspiration\" project.\n",
        "\n",
        "https://github.com/bennyqp/artificial-inspiration"
      ]
    },
    {
      "cell_type": "markdown",
      "metadata": {
        "id": "ml04N83FROe-"
      },
      "source": [
        "##Set up our Runtime\n",
        "\n",
        "We then need to make sure we’re using the latest version of Tensorflow 1, otherwise we get some annoying messages."
      ]
    },
    {
      "cell_type": "code",
      "metadata": {
        "id": "1BMdAScclQVN"
      },
      "source": [
        "#install TF 1.15 to avoid some annoying warning messages\n",
        "# Restart runtime using 'Runtime' -> 'Restart runtime...'\n",
        "%tensorflow_version 1.x\n",
        "import tensorflow as tf\n",
        "print(tf.__version__)"
      ],
      "execution_count": null,
      "outputs": []
    },
    {
      "cell_type": "code",
      "metadata": {
        "id": "Yss7KPQPa85q"
      },
      "source": [
        "from google.colab import drive\n",
        "drive.mount('/content/drive')"
      ],
      "execution_count": null,
      "outputs": []
    },
    {
      "cell_type": "markdown",
      "metadata": {
        "id": "Ec_j9q3XLtBE"
      },
      "source": [
        "##Install the neural-style-tf library"
      ]
    },
    {
      "cell_type": "code",
      "metadata": {
        "id": "mmjBZZLbLb-2"
      },
      "source": [
        "#import some image display tools\n",
        "from IPython.display import Image, display\n",
        "#install the library in colab\n",
        "!git clone https://github.com/bennyqp/neural-style-tf\n",
        "#change into that directory\n",
        "%cd neural-style-tf/\n",
        "#install the library dependencies (it's likely Colab already has them installed, but let's be sure)\n",
        "!pip install -r requirements.txt\n",
        "#install the VGG19 pre-trained model\n",
        "!wget http://www.vlfeat.org/matconvnet/models/imagenet-vgg-verydeep-19.mat"
      ],
      "execution_count": null,
      "outputs": []
    },
    {
      "cell_type": "code",
      "metadata": {
        "id": "t3FTtdkSL_lV"
      },
      "source": [
        "#let's make sure we're in the right folder\n",
        "!pwd\n",
        "# we should see \"/content/neural-style-tf\""
      ],
      "execution_count": null,
      "outputs": []
    },
    {
      "cell_type": "markdown",
      "metadata": {
        "id": "g0KCjqxDeV-d"
      },
      "source": [
        "##Creat Hue Shift Function\n",
        "\n",
        "For this project, we want to have as much variety and separation from the original images in the results as possible, so we create a function here that changes the hue of the style images before the actual style transfer.\n",
        "\n"
      ]
    },
    {
      "cell_type": "code",
      "metadata": {
        "id": "puq_LpCMebB2"
      },
      "source": [
        "from IPython.display import Image, display\n",
        "from PIL import Image\n",
        "import numpy as np\n",
        "import colorsys\n",
        "\n",
        "rgb_to_hsv = np.vectorize(colorsys.rgb_to_hsv)\n",
        "hsv_to_rgb = np.vectorize(colorsys.hsv_to_rgb)\n",
        "\n",
        "def shift_hue(arr, hout):\n",
        "    r, g, b, a = np.rollaxis(arr, axis=-1)\n",
        "    h, s, v = rgb_to_hsv(r, g, b)\n",
        "    s = s * 1.0 ##########Sätigung erhöhen\n",
        "\n",
        "    ###Manchmal random nur in einer Farbe?\n",
        "    randomColor = random.randint(0, 100)\n",
        "    if randomColor > 75:\n",
        "      h = hout\n",
        "    else:\n",
        "      h = h + hout\n",
        "\n",
        "    #h = h + hout  \n",
        "    r, g, b = hsv_to_rgb(h, s, v)\n",
        "    arr = np.dstack((r, g, b, a))\n",
        "    return arr\n",
        "\n",
        "def colorize(image, hue):\n",
        "    img = image.convert('RGBA')\n",
        "    arr = np.array(np.asarray(img).astype('float'))\n",
        "    new_img = Image.fromarray(shift_hue(arr, hue/360.).astype('uint8'), 'RGBA')\n",
        "\n",
        "    return new_img"
      ],
      "execution_count": 4,
      "outputs": []
    },
    {
      "cell_type": "markdown",
      "metadata": {
        "id": "Y22PMoUCgNby"
      },
      "source": [
        "##Input and Output Folder\n",
        "\n",
        "Set the input and output folder and the folder where the style images are located.\n",
        "\n",
        "The input folder should contain the files to which the StyleTrasfer will be applied. This can be one or more images. If there are multiple images, images will be randomly selected from the folder.\n",
        "\n",
        "The output folder is where the final images are saved. \n",
        "\n",
        "The style images folder should contain the dataset of style images. The images can be located directly in the folder or they can be divided into subfolders. "
      ]
    },
    {
      "cell_type": "code",
      "metadata": {
        "id": "E95gWQig-erZ"
      },
      "source": [
        "inputFolder = \"/content/input\"\n",
        "outputFolder = \"/content/output\"\n",
        "styleImages = \"/content/styles\""
      ],
      "execution_count": 5,
      "outputs": []
    },
    {
      "cell_type": "code",
      "metadata": {
        "id": "GLC7k9QngWv3"
      },
      "source": [
        "import os \n",
        "\n",
        "def getListOfFiles(dirName):\n",
        "    # create a list of file and sub directories \n",
        "    # names in the given directory \n",
        "    listOfFile = os.listdir(dirName)\n",
        "    allFiles = list()\n",
        "    # Iterate over all the entries\n",
        "    for entry in listOfFile:\n",
        "        # Create full path\n",
        "        fullPath = os.path.join(dirName, entry)\n",
        "        # If entry is a directory then get the list of files in this directory \n",
        "        if os.path.isdir(fullPath):\n",
        "            allFiles = allFiles + getListOfFiles(fullPath)\n",
        "        else:\n",
        "            allFiles.append(fullPath)\n",
        "                \n",
        "    return allFiles\n",
        "\n",
        "styleImages = getListOfFiles(styleImages)\n",
        "print(\"Number of Style Images: \" + str(len(styleImages)))"
      ],
      "execution_count": null,
      "outputs": []
    },
    {
      "cell_type": "markdown",
      "metadata": {
        "id": "RpZBaAQGgRqL"
      },
      "source": [
        "##Set some parameters"
      ]
    },
    {
      "cell_type": "code",
      "metadata": {
        "id": "lQbezMgjSp6i"
      },
      "source": [
        "# Basic parameters\n",
        "imageNum = 500 #How many Images should be created?\n",
        "imageSize = 256 #How big should the images be?\n",
        "startCounter = 0 #With which number should the counter in the name of the generated images start? \n",
        "\n",
        "\n",
        "# Advanced parameters\n",
        "iterationVariety = 500 # Variety of style intensity of the images. Recommended value between 400 and 1000\n",
        "styleScaleVariety = 0.6 # Variety in the scaling of the style image. Recommended value between 0.3 and 1.0\n",
        "oColorProbability = 1 # Probability from 0 to 100 with which the original color of the original image should be kept.\n",
        "pickStyleImageRandomly = True # Should the style image be chosen randomly or according to the given order?\n",
        "startAtStyleImage = 0 #If pickStyleImageRandomly == False: At which image should be started?\n",
        "\n",
        "\n",
        "# If pickStyleImageRandomly == True: According to what probabilities should one, two, three or four images be used as style images. The probabilities are given between 0 and 1 (Should add up to 1).\n",
        "if pickStyleImageRandomly == True:\n",
        "  oneStyleProb = 0.9\n",
        "  twoStyleProb = 0.05\n",
        "  threeStyleProb = 0.03\n",
        "  fourStlyeProb = 0.02\n",
        "else:\n",
        "  oneStyleProb = 1\n",
        "  twoStyleProb = 0\n",
        "  threeStyleProb = 0\n",
        "  fourStlyeProb = 0\n",
        "\n",
        "#Some initial processing. Do not change anything here.\n",
        "startImageFolder = inputFolder\n",
        "styleNumbers = len(styleImages)\n",
        "startImages = os.listdir( startImageFolder )\n",
        "startImageNumbers = len(startImages)"
      ],
      "execution_count": 7,
      "outputs": []
    },
    {
      "cell_type": "markdown",
      "metadata": {
        "id": "HMvXPI_yBjFF"
      },
      "source": [
        "##Let's start the StyleTransfer!"
      ]
    },
    {
      "cell_type": "code",
      "metadata": {
        "id": "ld0p1SkgN2MN"
      },
      "source": [
        "import random\n",
        "import shutil\n",
        "\n",
        "for i in range(imageNum):\n",
        "  saveStepStylesDir = \"/content/stepStyles/\"\n",
        "  !mkdir $saveStepStylesDir\n",
        "\n",
        "  iterationNumber = 800 + random.randint(- (iterationVariety * 0.25) , iterationVariety * 0.75)\n",
        "  styleScale = 0.7 + random.uniform(- (styleScaleVariety/2), styleScaleVariety/2)\n",
        "  oColor = random.randint(0, 100)\n",
        "  counter = startCounter + i\n",
        "  randomHue1 = random.randint(0, 360)\n",
        "  randomHue2 = random.randint(0, 360)\n",
        "  randomHue3 = random.randint(0, 360)\n",
        "  randomHue4 = random.randint(0, 360)\n",
        "\n",
        "  startImageName = startImages[random.randint(0, startImageNumbers - 1)]\n",
        "\n",
        "  if pickStyleImageRandomly == True:\n",
        "    styleImage1 = styleImages[random.randint(0, styleNumbers - 1)]\n",
        "    styleImage2 = styleImages[random.randint(0, styleNumbers - 1)]\n",
        "    styleImage3 = styleImages[random.randint(0, styleNumbers - 1)]\n",
        "    styleImage4 = styleImages[random.randint(0, styleNumbers - 1)]\n",
        "  else:\n",
        "    styleImage1 = styleImages[startAtStyleImage + i]\n",
        "\n",
        "  stylesNumber = random.uniform(0.0, 1.0)\n",
        "\n",
        "  if stylesNumber < oneStyleProb:\n",
        "    print(\"number of Styles: 1\")\n",
        "    print(\"Input Image: \" + startImageName)\n",
        "    print(\"iterationNumber: \" + str(iterationNumber))\n",
        "    print(\"styleScale: \" + str(styleScale))\n",
        "    print(\"oColor: \" + str(oColor))\n",
        "    print(\"styleImage: \" + styleImage1)\n",
        "    print(\"randomHue1: \" + str(randomHue1))\n",
        "\n",
        "    style1 = Image.open(styleImage1)\n",
        "    \n",
        "    style1 = colorize(style1, randomHue1)\n",
        "    style1.save(saveStepStylesDir + \"stepStyle.PNG\")\n",
        "\n",
        "    if oColor < oColorProbability:\n",
        "      !python neural_style.py --content_img $startImageName --style_imgs stepStyle.PNG --content_img_dir $startImageFolder --style_imgs_dir $saveStepStylesDir --max_size $imageSize --max_iterations $iterationNumber --style_scale $styleScale --img_output_dir $outputFolder --round_number $counter --original_colors\n",
        "    else:\n",
        "      !python neural_style.py --content_img $startImageName --style_imgs stepStyle.PNG --content_img_dir $startImageFolder --style_imgs_dir $saveStepStylesDir --max_size $imageSize --max_iterations $iterationNumber --style_scale $styleScale --img_output_dir $outputFolder --round_number $counter\n",
        "\n",
        "  elif stylesNumber < oneStyleProb + twoStyleProb and stylesNumber >= oneStyleProb:\n",
        "    print(\"number of Styles: 2\")\n",
        "    print(\"iterationNumber: \" + str(iterationNumber))\n",
        "    print(\"styleScale: \" + str(styleScale))\n",
        "    print(\"oColor: \" + str(oColor))\n",
        "    print(\"styleImage1: \" + styleImage1)\n",
        "    print(\"styleImage2: \" + styleImage2)\n",
        "    print(\"randomHue1: \" + str(randomHue1))\n",
        "    print(\"randomHue2: \" + str(randomHue2))\n",
        "\n",
        "    style1 = Image.open(styleImage1)\n",
        "    style1 = colorize(style1, randomHue1)\n",
        "    style1.save(saveStepStylesDir + styleImage1, \"PNG\")\n",
        "\n",
        "    style2 = Image.open(styleImage2)\n",
        "    style2 = colorize(style2, randomHue2)\n",
        "    style2.save(saveStepStylesDir + styleImage2, \"PNG\")\n",
        "\n",
        "    styleImgWeight1 = random.uniform(0.2, 0.8)\n",
        "    styleImgWeight2 = 1 - styleImgWeight1\n",
        "    print(\"style Image Weight 1: \" + str(styleImgWeight1))\n",
        "    print(\"style Image Weight 2: \" + str(styleImgWeight2))\n",
        "\n",
        "    if oColor < oColorProbability:\n",
        "      !python neural_style.py --content_img $startImageName --style_imgs $styleImage1 $styleImage2 --style_imgs_weights $styleImgWeight1 $styleImgWeight2 --content_img_dir $startImageFolder --style_imgs_dir $saveStepStylesDir --max_size $imageSize --max_iterations $iterationNumber --style_scale $styleScale --img_output_dir $outputFolder --round_number $counter --original_colors\n",
        "    else:\n",
        "      !python neural_style.py --content_img $startImageName --style_imgs $styleImage1 $styleImage2 --style_imgs_weights $styleImgWeight1 $styleImgWeight2 --content_img_dir $startImageFolder --style_imgs_dir $saveStepStylesDir --max_size $imageSize --max_iterations $iterationNumber --style_scale $styleScale --img_output_dir $outputFolder --round_number $counter\n",
        "\n",
        "  elif stylesNumber < oneStyleProb + twoStyleProb + threeStyleProb and stylesNumber >= oneStyleProb + twoStyleProb:\n",
        "    print(\"number of Styles: 3\")\n",
        "    print(\"iterationNumber: \" + str(iterationNumber))\n",
        "    print(\"styleScale: \" + str(styleScale))\n",
        "    print(\"oColor: \" + str(oColor))\n",
        "    print(\"styleImage1: \" + styleImage1)\n",
        "    print(\"styleImage2: \" + styleImage2)\n",
        "    print(\"styleImage3: \" + styleImage3)\n",
        "    print(\"randomHue1: \" + str(randomHue1))\n",
        "    print(\"randomHue2: \" + str(randomHue2))\n",
        "    print(\"randomHue3: \" + str(randomHue3))\n",
        "\n",
        "    style1 = Image.open(styleImage1)\n",
        "    style1 = colorize(style1, randomHue1)\n",
        "    style1.save(saveStepStylesDir + styleImage1, \"PNG\")\n",
        "\n",
        "    style2 = Image.open(styleImage2)\n",
        "    style2 = colorize(style2, randomHue2)\n",
        "    style2.save(saveStepStylesDir + styleImage2, \"PNG\")\n",
        "\n",
        "    style3 = Image.open(styleImage3)\n",
        "    style3 = colorize(style3, randomHue3)\n",
        "    style3.save(saveStepStylesDir + styleImage3, \"PNG\")\n",
        "\n",
        "    styleImgWeight1 = random.uniform(0.05, 0.45)\n",
        "    styleImgWeight2 = random.uniform(0.05, styleImgWeight1)\n",
        "    styleImgWeight3 = 1 - styleImgWeight1 - styleImgWeight2\n",
        "    print(\"style Image Weight 1: \" + str(styleImgWeight1))\n",
        "    print(\"style Image Weight 2: \" + str(styleImgWeight2))\n",
        "    print(\"style Image Weight 3: \" + str(styleImgWeight3))\n",
        "\n",
        "    if oColor < oColorProbability:\n",
        "      !python neural_style.py --content_img $startImageName --style_imgs $styleImage1 $styleImage2 $styleImage3 --style_imgs_weights $styleImgWeight1 $styleImgWeight2 $styleImgWeight3 --content_img_dir $startImageFolder --style_imgs_dir $saveStepStylesDir --max_size $imageSize --max_iterations $iterationNumber --style_scale $styleScale --img_output_dir $outputFolder --round_number $counter --original_colors\n",
        "    else:\n",
        "      !python neural_style.py --content_img $startImageName --style_imgs $styleImage1 $styleImage2 $styleImage3 --style_imgs_weights $styleImgWeight1 $styleImgWeight2 $styleImgWeight3 --content_img_dir $startImageFolder --style_imgs_dir $saveStepStylesDir --max_size $imageSize --max_iterations $iterationNumber --style_scale $styleScale --img_output_dir $outputFolder --round_number $counter\n",
        "\n",
        "  else:\n",
        "    print(\"number of Styles: 4\")\n",
        "    print(\"iterationNumber: \" + str(iterationNumber))\n",
        "    print(\"styleScale: \" + str(styleScale))\n",
        "    print(\"oColor: \" + str(oColor))\n",
        "    print(\"styleImage1: \" + styleImage1)\n",
        "    print(\"styleImage2: \" + styleImage2)\n",
        "    print(\"styleImage3: \" + styleImage3)\n",
        "    print(\"styleImage3: \" + styleImage4)\n",
        "    print(\"randomHue1: \" + str(randomHue1))\n",
        "    print(\"randomHue2: \" + str(randomHue2))\n",
        "    print(\"randomHue3: \" + str(randomHue3))\n",
        "    print(\"randomHue4: \" + str(randomHue4))\n",
        "\n",
        "    style1 = Image.open(styleImage1)\n",
        "    style1 = colorize(style1, randomHue1)\n",
        "    style1.save(saveStepStylesDir + styleImage1, \"PNG\")\n",
        "\n",
        "    style2 = Image.open(styleImage2)\n",
        "    style2 = colorize(style2, randomHue2)\n",
        "    style2.save(saveStepStylesDir + styleImage2, \"PNG\")\n",
        "\n",
        "    style3 = Image.open(styleImage3)\n",
        "    style3 = colorize(style3, randomHue3)\n",
        "    style3.save(saveStepStylesDir + styleImage3, \"PNG\")\n",
        "\n",
        "    style4 = Image.open(styleImage4)\n",
        "    style4 = colorize(style4, randomHue4)\n",
        "    style4.save(saveStepStylesDir + styleImage4, \"PNG\")\n",
        "\n",
        "    styleImgWeight1 = random.uniform(0.05, 0.35)\n",
        "    styleImgWeight2 = random.uniform(0.05, 0.35)\n",
        "    styleImgWeight3 = random.uniform(0.05, (1-styleImgWeight1-styleImgWeight2))\n",
        "    styleImgWeight4 = 1 - styleImgWeight1 - styleImgWeight2 - styleImgWeight3\n",
        "    print(\"style Image Weight 1: \" + str(styleImgWeight1))\n",
        "    print(\"style Image Weight 2: \" + str(styleImgWeight2))\n",
        "    print(\"style Image Weight 3: \" + str(styleImgWeight3))\n",
        "\n",
        "    if oColor < oColorProbability:\n",
        "      !python neural_style.py --content_img $startImageName --style_imgs $styleImage1 $styleImage2 $styleImage3 $styleImage4 --style_imgs_weights $styleImgWeight1 $styleImgWeight2 $styleImgWeight3 --content_img_dir $startImageFolder --style_imgs_dir $saveStepStylesDir --max_size $imageSize --max_iterations $iterationNumber --style_scale $styleScale --img_output_dir $outputFolder --round_number $counter --original_colors\n",
        "    else:\n",
        "      !python neural_style.py --content_img $startImageName --style_imgs $styleImage1 $styleImage2 $styleImage3 $styleImage4 --style_imgs_weights $styleImgWeight1 $styleImgWeight2 $styleImgWeight3 --content_img_dir $startImageFolder --style_imgs_dir $saveStepStylesDir --max_size $imageSize --max_iterations $iterationNumber --style_scale $styleScale --img_output_dir $outputFolder --round_number $counter\n",
        "\n",
        "  shutil.rmtree(saveStepStylesDir)\n",
        "\n",
        "  print(\"Last Style Image: \" + str(startAtStyleImage + i))\n",
        "  print(\" \")\n",
        "  print(\"Done with this Image.\")\n",
        "  print(\" \")\n",
        "  print(\" \")"
      ],
      "execution_count": null,
      "outputs": []
    },
    {
      "cell_type": "code",
      "metadata": {
        "id": "kBFgDYL3B2xW"
      },
      "source": [
        ""
      ],
      "execution_count": null,
      "outputs": []
    }
  ]
}