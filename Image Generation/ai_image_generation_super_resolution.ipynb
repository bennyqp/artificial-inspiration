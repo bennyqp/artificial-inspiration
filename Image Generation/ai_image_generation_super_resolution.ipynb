{
  "nbformat": 4,
  "nbformat_minor": 0,
  "metadata": {
    "accelerator": "GPU",
    "colab": {
      "name": "spellSuperResolution.ipynb",
      "provenance": [],
      "collapsed_sections": [
        "-9DHihwzhMDc"
      ],
      "toc_visible": true,
      "include_colab_link": true
    },
    "kernelspec": {
      "display_name": "Python 3",
      "language": "python",
      "name": "python3"
    },
    "language_info": {
      "codemirror_mode": {
        "name": "ipython",
        "version": 3
      },
      "file_extension": ".py",
      "mimetype": "text/x-python",
      "name": "python",
      "nbconvert_exporter": "python",
      "pygments_lexer": "ipython3",
      "version": "3.7.9"
    }
  },
  "cells": [
    {
      "cell_type": "markdown",
      "metadata": {
        "id": "view-in-github",
        "colab_type": "text"
      },
      "source": [
        "<a href=\"https://colab.research.google.com/github/bennyqp/artificial-inspiration/blob/main/Image%20Generation/ai_image_generation_super_resolution.ipynb\" target=\"_parent\"><img src=\"https://colab.research.google.com/assets/colab-badge.svg\" alt=\"Open In Colab\"/></a>"
      ]
    },
    {
      "cell_type": "markdown",
      "metadata": {
        "id": "mNzhyqoRaliI"
      },
      "source": [
        "#Image-Super-Resolution\n",
        "\n",
        "This is a notebook for batch image-super-resolution. \n",
        "\n",
        "It a modified notebook. The original is from Erdene-Ochir Tuguldur.\n",
        "\n",
        "https://github.com/tugstugi"
      ]
    },
    {
      "cell_type": "markdown",
      "metadata": {
        "id": "QJ4sSTzDWAao"
      },
      "source": [
        "# Install ISR"
      ]
    },
    {
      "cell_type": "code",
      "metadata": {
        "id": "KCd2ZuS4V6Z0"
      },
      "source": [
        "!pip -q install ISR gdown"
      ],
      "execution_count": null,
      "outputs": []
    },
    {
      "cell_type": "code",
      "metadata": {
        "id": "vFkNPaNmaKfX"
      },
      "source": [
        "pip install 'h5py<3.0.0'"
      ],
      "execution_count": null,
      "outputs": []
    },
    {
      "cell_type": "markdown",
      "metadata": {
        "id": "ey0ldzgcU5Uy"
      },
      "source": [
        "## Get the pre-trained weights and data"
      ]
    },
    {
      "cell_type": "code",
      "metadata": {
        "collapsed": true,
        "id": "dsB9otUypIXC",
        "jupyter": {
          "outputs_hidden": true,
          "source_hidden": true
        }
      },
      "source": [
        "import os\n",
        "\n",
        "if not os.path.exists('weights/rrdn-C4-D3-G32-G032-T10-x4_epoch299.hdf'):\n",
        "  # download pretrained weights\n",
        "  !gdown https://drive.google.com/uc?id=1Sn9FFKXNWOPXdNzy-zmyVYB4eNRnXTKD\n",
        "  !gdown https://drive.google.com/uc?id=1_1GGoHF5oq3W_iVVxx1SRDIa_mjwoe26\n",
        "  !gdown https://drive.google.com/uc?id=1ro0Rk4xAqo-OEDGgLIYz-F0BHvmUUT2E\n",
        "  !gdown https://drive.google.com/uc?id=1o3l_I60xHkdiWZG7UM0nZBblEontHs2W\n",
        "  !mkdir weights\n",
        "  !mv *.hdf5 weights"
      ],
      "execution_count": null,
      "outputs": []
    },
    {
      "cell_type": "markdown",
      "metadata": {
        "id": "Xb_YVAlMG-EY"
      },
      "source": [
        "## Load images which should be scaled up"
      ]
    },
    {
      "cell_type": "markdown",
      "metadata": {
        "id": "sDt99LFoc8Tu"
      },
      "source": [
        "You can load a zip file from google Drive here or you can upload the images yourself."
      ]
    },
    {
      "cell_type": "code",
      "metadata": {
        "id": "MpMzDneKLGOt"
      },
      "source": [
        "import gdown\n",
        "\n",
        "!gdown --id 1B45O5WURT3BwfbZIRNHP6Rj4Liz20BL_"
      ],
      "execution_count": null,
      "outputs": []
    },
    {
      "cell_type": "markdown",
      "metadata": {
        "id": "PbDhNTXlc-6r"
      },
      "source": [
        "& unzip"
      ]
    },
    {
      "cell_type": "code",
      "metadata": {
        "collapsed": true,
        "jupyter": {
          "outputs_hidden": true
        },
        "id": "7_14cF_5aKfa"
      },
      "source": [
        "zip_path = \"isr_demo_portraits.zip\"\n",
        "\n",
        "!unzip {zip_path} -d input"
      ],
      "execution_count": null,
      "outputs": []
    },
    {
      "cell_type": "code",
      "metadata": {
        "id": "jRUunJUiaKfb"
      },
      "source": [
        "print(\"Number of images: \" + str(len(os.listdir(\"input\"))))"
      ],
      "execution_count": null,
      "outputs": []
    },
    {
      "cell_type": "markdown",
      "metadata": {
        "id": "IZG6dSS-tXSM"
      },
      "source": [
        "# Let's get started with ISR:"
      ]
    },
    {
      "cell_type": "markdown",
      "metadata": {
        "id": "yJgvdLROfha7"
      },
      "source": [
        "## Set input and output"
      ]
    },
    {
      "cell_type": "code",
      "metadata": {
        "id": "jkPmm1WffK_w"
      },
      "source": [
        "input = \"input\" #Input Folder\n",
        "output = \"output\" #Final Output Folder"
      ],
      "execution_count": 12,
      "outputs": []
    },
    {
      "cell_type": "markdown",
      "metadata": {
        "id": "G3khkOTvfpS5"
      },
      "source": [
        "Set network"
      ]
    },
    {
      "cell_type": "code",
      "metadata": {
        "id": "GF4egbZW2Yx1"
      },
      "source": [
        "from ISR.models import RDN, RRDN\n",
        "\n",
        "rdn = RDN(arch_params={'C': 6, 'D':20, 'G':64, 'G0':64, 'x':2})\n",
        "rdn.model.load_weights('weights/rdn-C6-D20-G64-G064-x2_ArtefactCancelling_epoch219.hdf5')"
      ],
      "execution_count": 13,
      "outputs": []
    },
    {
      "cell_type": "markdown",
      "metadata": {
        "id": "eIDIHz7WaKfc"
      },
      "source": [
        "## 1) Fourfold magnification in two steps"
      ]
    },
    {
      "cell_type": "code",
      "metadata": {
        "id": "WDeyBlOHaKfc"
      },
      "source": [
        "import numpy as np\n",
        "from PIL import Image\n",
        "import os, sys\n",
        "\n",
        "output1path = \"step1\" #Folder for intermediate step\n",
        "path = input\n",
        "output2path = output \n",
        "\n",
        "if not os.path.exists(output1path):  \n",
        "    os.makedirs(output1path)\n",
        "if not os.path.exists(output2path): \n",
        "    os.makedirs(output2path)\n",
        "\n",
        "dirs = os.listdir( path )\n",
        "\n",
        "#Remove all hidden Files\n",
        "for item in dirs:\n",
        "    if item.startswith('.'):\n",
        "        shutil.rmtree(os.path.join(path, item))\n",
        "        \n",
        "dirs = os.listdir( path )\n",
        "\n",
        "check_path = \"check\"\n",
        "os.makedirs(check_path)\n",
        "counter = 1\n",
        "for item in dirs:\n",
        "  if not item.startswith('.'):\n",
        "    finalOutputName = os.path.join(output2path, os.path.splitext(item)[0] + \"_sr\" + os.path.splitext(item)[1])\n",
        "    if os.path.exists(finalOutputName) == False:\n",
        "  \n",
        "        #Vergrößerung Schritt 1\n",
        "        img = Image.open(os.path.join(path, item))\n",
        "        sr_img = rdn.predict(np.array(img))\n",
        "        img = Image.fromarray(sr_img)\n",
        "        img.save(os.path.join(output1path, item))\n",
        "        print(\"Image \" + str(counter) + \" of \" + str(len(dirs)) + \" Step 1 / 2\")\n",
        "\n",
        "        #Vergrößerung Schritt 2\n",
        "        img2 = Image.open(os.path.join(output1path, item))\n",
        "        sr_img2 = rdn.predict(np.array(img2))\n",
        "        img2 = Image.fromarray(sr_img2)\n",
        "        img2.save(finalOutputName)\n",
        "        os.remove(os.path.join(output1path, item))\n",
        "        print(\"Image \" + str(counter) + \" of \" + str(len(dirs)) + \" Step 2 / 2\")\n",
        "        \n",
        "    else:\n",
        "        print(item + \" is already in the destination folder.\")\n",
        "    \n",
        "    newCheckName = str(counter) + \"of\" + str(len(dirs))\n",
        "    os.rename(check_path, newCheckName)\n",
        "    check_path = newCheckName\n",
        "    counter = counter + 1\n",
        "\n",
        "print(\"All done.\")\n",
        "os.makedirs(\"All_done\")\n",
        "\n",
        "ifAllDone = os.listdir( output1path )\n",
        "if len(ifAllDone) == 0:\n",
        "    os.rmdir(output1path)"
      ],
      "execution_count": null,
      "outputs": []
    },
    {
      "cell_type": "markdown",
      "metadata": {
        "id": "1DRqQ3Ftgi1v"
      },
      "source": [
        "## 2) Double magnification"
      ]
    },
    {
      "cell_type": "code",
      "metadata": {
        "id": "GCAYQHTfQAm4"
      },
      "source": [
        "import numpy as np\n",
        "from PIL import Image\n",
        "import os, sys\n",
        "\n",
        "path = input\n",
        "outputPath = output \n",
        "\n",
        "if not os.path.exists(outputPath):  \n",
        "    os.makedirs(outputPath)\n",
        "\n",
        "dirs = os.listdir( path )\n",
        "\n",
        "counter = 1\n",
        "for item in dirs:\n",
        "  if not item.startswith('.'):\n",
        "    img = Image.open(os.path.join(path,item))\n",
        "    sr_img = rdn.predict(np.array(img))\n",
        "    img = Image.fromarray(sr_img)\n",
        "    img.save(os.path.join(outputPath,item))\n",
        "    print(\"Image \" + str(counter) + \" of \" + str(len(dirs)))\n",
        "    counter = counter + 1\n",
        "\n",
        "print(\"Done with \" + str(len(outputDirs)) + \" images.\")"
      ],
      "execution_count": null,
      "outputs": []
    },
    {
      "cell_type": "markdown",
      "metadata": {
        "id": "-9DHihwzhMDc"
      },
      "source": [
        "#More useful stuff"
      ]
    },
    {
      "cell_type": "markdown",
      "metadata": {
        "id": "LXvJvPVbaKfd"
      },
      "source": [
        "## Zip images for download"
      ]
    },
    {
      "cell_type": "code",
      "metadata": {
        "id": "WX4n0cDPaKfe"
      },
      "source": [
        "import shutil\n",
        "\n",
        "zip_name = 'isr_images'\n",
        "directory_name = 'output'\n",
        "\n",
        "shutil.make_archive(zip_name, 'zip', directory_name)"
      ],
      "execution_count": null,
      "outputs": []
    },
    {
      "cell_type": "markdown",
      "metadata": {
        "id": "smEnf6mOaKfd"
      },
      "source": [
        "## Reduce image size"
      ]
    },
    {
      "cell_type": "markdown",
      "metadata": {
        "id": "1kProeu9i0BO"
      },
      "source": [
        "#####Define Function"
      ]
    },
    {
      "cell_type": "code",
      "metadata": {
        "jupyter": {
          "source_hidden": true
        },
        "id": "F9WWna8SaKfd"
      },
      "source": [
        "from __future__ import print_function\n",
        "def resize(inputResizePath, outputResizePath, targetWidth, targetHeight):\n",
        "  resizeDirs = os.listdir( inputResizePath )\n",
        "  if not os.path.exists(outputResizePath):  \n",
        "    os.makedirs(outputResizePath)\n",
        "  counter = 0\n",
        "  for image in resizeDirs:\n",
        "        im = Image.open(os.path.join(inputResizePath, image))\n",
        "        im = im.resize((targetWidth,targetHeight), Image.ANTIALIAS)\n",
        "        im.save(os.path.join(outputResizePath,image))\n",
        "        counter = counter + 1\n",
        "        print(\"Progress: \" + str(counter) + \" / \" + str(len(resizeDirs)))\n",
        "  print(\"resized \" + str(counter) + \" images.\")"
      ],
      "execution_count": 26,
      "outputs": []
    },
    {
      "cell_type": "markdown",
      "metadata": {
        "id": "2FPih3DSjf8Q"
      },
      "source": [
        "#####Reduce image size"
      ]
    },
    {
      "cell_type": "code",
      "metadata": {
        "id": "cMtiMBVKix2D"
      },
      "source": [
        "resize(\"input\", \"smallImages\", 100, 100)"
      ],
      "execution_count": null,
      "outputs": []
    },
    {
      "cell_type": "code",
      "metadata": {
        "id": "pb-WQZGxjbTV"
      },
      "source": [
        ""
      ],
      "execution_count": null,
      "outputs": []
    }
  ]
}