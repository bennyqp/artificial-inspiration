{
  "nbformat": 4,
  "nbformat_minor": 0,
  "metadata": {
    "colab": {
      "name": "ai_image-generation_deepdream.ipynb",
      "provenance": [],
      "collapsed_sections": [],
      "toc_visible": true,
      "include_colab_link": true
    },
    "kernelspec": {
      "display_name": "Python 2",
      "name": "python2"
    }
  },
  "cells": [
    {
      "cell_type": "markdown",
      "metadata": {
        "id": "view-in-github",
        "colab_type": "text"
      },
      "source": [
        "<a href=\"https://colab.research.google.com/github/bennyqp/artificial-inspiration/blob/main/Image%20Generation/ai_image_generation_deepdream.ipynb\" target=\"_parent\"><img src=\"https://colab.research.google.com/assets/colab-badge.svg\" alt=\"Open In Colab\"/></a>"
      ]
    },
    {
      "cell_type": "markdown",
      "metadata": {
        "id": "-PLC9SvcQgkG"
      },
      "source": [
        "# DeepDreaming with TensorFlow\n",
        "_\n",
        "###Deep Dream Code and original Notebook from\n",
        "## ___Alex Mordvintsev___\n",
        "https://colab.research.google.com/drive/1DWcrN9WXni58MbddvlShX0wF_oeo8W_0\n",
        "\n",
        "_\n",
        "\n",
        "This notebook was modified for batch processing as part of the \"Artificial Inspiration\" project. \n",
        "\n",
        "Here is the link to the project:\n",
        "\n",
        "https://github.com/bennyqp/artificial-inspiration"
      ]
    },
    {
      "cell_type": "markdown",
      "metadata": {
        "id": "yvq27fsbHtfD"
      },
      "source": [
        "#Mount Google Drive"
      ]
    },
    {
      "cell_type": "code",
      "metadata": {
        "colab": {
          "base_uri": "https://localhost:8080/"
        },
        "id": "k_7qAUvFIGOi",
        "outputId": "7a2971d2-259f-4213-a5ee-7a35b60333d6"
      },
      "source": [
        "from google.colab import drive\n",
        "drive.mount('/content/drive')"
      ],
      "execution_count": null,
      "outputs": [
        {
          "output_type": "stream",
          "text": [
            "Mounted at /content/drive\n"
          ],
          "name": "stdout"
        }
      ]
    },
    {
      "cell_type": "markdown",
      "metadata": {
        "id": "ILvNKvMvc2n5"
      },
      "source": [
        "### 1) Load the model graph\n",
        "\n",
        "The pretrained Inception network can be downloaded [here](https://storage.googleapis.com/download.tensorflow.org/models/inception5h.zip). This next cell downloads the file automatically and unpacks it locally to the Colab kernel. We can the load the contained model file  'tensorflow_inception_graph.pb' in the cell below."
      ]
    },
    {
      "cell_type": "code",
      "metadata": {
        "cellView": "both",
        "id": "1kJuJRLiQgkg"
      },
      "source": [
        "!wget -nc --no-check-certificate https://storage.googleapis.com/download.tensorflow.org/models/inception5h.zip && unzip -n inception5h.zip\n",
        "\n",
        "from io import BytesIO\n",
        "from IPython.display import clear_output, Image, display\n",
        "import numpy as np\n",
        "import PIL.Image\n",
        "import tensorflow.compat.v1 as tf\n",
        "from __future__ import print_function\n",
        "import os\n",
        "\n",
        "model_fn = 'tensorflow_inception_graph.pb'\n",
        "\n",
        "# creating TensorFlow session and loading the model\n",
        "graph = tf.Graph()\n",
        "sess = tf.InteractiveSession(graph=graph)\n",
        "with tf.gfile.FastGFile(model_fn, 'rb') as f:\n",
        "    graph_def = tf.GraphDef()\n",
        "    graph_def.ParseFromString(f.read())\n",
        "t_input = tf.placeholder(np.float32, name='input') # define the input tensor\n",
        "imagenet_mean = 117.0\n",
        "t_preprocessed = tf.expand_dims(t_input-imagenet_mean, 0)\n",
        "tf.import_graph_def(graph_def, {'input':t_preprocessed})\n",
        "\n",
        "def T(layer):\n",
        "    '''Helper for getting layer output tensor'''\n",
        "    return graph.get_tensor_by_name(\"import/%s:0\"%layer)"
      ],
      "execution_count": null,
      "outputs": []
    },
    {
      "cell_type": "markdown",
      "metadata": {
        "id": "oxELTBqpqOP5"
      },
      "source": [
        "### 2) The core deepdream code"
      ]
    },
    {
      "cell_type": "code",
      "metadata": {
        "id": "K8Usk3m5Q1E0"
      },
      "source": [
        "# These parameters let us control the strenth of the deepdream.\n",
        "octave_n = 4\n",
        "octave_scale = 1.4\n",
        "iter_n = 10\n",
        "strength = 200\n",
        "\n",
        "# Helper function that uses TensorFlow to resize an image\n",
        "def resize(img, new_size):\n",
        "    return sess.run(tf.image.resize_bilinear(img[np.newaxis,:], new_size))[0]\n",
        "\n",
        "# Apply gradients to an image in a seires of tiles\n",
        "def calc_grad_tiled(img, t_grad, tile_size=256):\n",
        "    '''Random shifts are applied to the image to blur tile boundaries over\n",
        "    multiple iterations.'''\n",
        "    h, w = img.shape[:2]\n",
        "    sx, sy = np.random.randint(tile_size, size=2)\n",
        "    # We randomly roll the image in x and y to avoid seams between tiles.\n",
        "    img_shift = np.roll(np.roll(img, sx, 1), sy, 0)\n",
        "    grad = np.zeros_like(img)\n",
        "    for y in range(0, max(h-tile_size//2, tile_size),tile_size):\n",
        "        for x in range(0, max(w-tile_size//2, tile_size),tile_size):\n",
        "            sub = img_shift[y:y+tile_size,x:x+tile_size]\n",
        "            g = sess.run(t_grad, {t_input:sub})\n",
        "            grad[y:y+tile_size,x:x+tile_size] = g\n",
        "    imggrad = np.roll(np.roll(grad, -sx, 1), -sy, 0)\n",
        "    # Add the image gradient to the image and return the result\n",
        "    return img + imggrad*(strength * 0.01 / (np.abs(imggrad).mean()+1e-7))\n",
        "\n",
        "# Applies deepdream at multiple scales\n",
        "def render_deepdream(t_obj, input_img, show_steps = True):\n",
        "    # Collapse the optimization objective to a single number (the loss)\n",
        "    t_score = tf.reduce_mean(t_obj)\n",
        "    # We need the gradient of the image with respect to the objective\n",
        "    t_grad = tf.gradients(t_score, t_input)[0]\n",
        "\n",
        "    # split the image into a number of octaves (laplacian pyramid)\n",
        "    img = input_img\n",
        "    octaves = []\n",
        "    for i in range(octave_n-1):\n",
        "        lo = resize(img, np.int32(np.float32(img.shape[:2])/octave_scale))\n",
        "        octaves.append(img-resize(lo, img.shape[:2]))\n",
        "        img = lo\n",
        "\n",
        "    # generate details octave by octave\n",
        "    for octave in range(octave_n):\n",
        "        if octave>0:\n",
        "            hi = octaves[-octave]\n",
        "            img = resize(img, hi.shape[:2])+hi\n",
        "        for i in range(iter_n):\n",
        "            img = calc_grad_tiled(img, t_grad)\n",
        "        if show_steps:\n",
        "            clear_output()\n",
        "            showarray(img)\n",
        "    return img\n",
        "\n",
        "# Display DeepDream Image\n",
        "def showarray(a, fmt='jpeg'):\n",
        "    a = np.uint8(np.clip(a, 0, 255))\n",
        "    f = BytesIO()\n",
        "    PIL.Image.fromarray(a).save(f, fmt)\n",
        "    display(Image(data=f.getvalue()))"
      ],
      "execution_count": null,
      "outputs": []
    },
    {
      "cell_type": "markdown",
      "metadata": {
        "id": "FTA0_5cjLjKR"
      },
      "source": [
        "### 3) Randomness\n",
        "\n",
        "For batch processing, we want to use randomly chosen parameters to always get new results. Here we define the functions for this. \n",
        "\n",
        "You can play around with the parameters to get different results. "
      ]
    },
    {
      "cell_type": "code",
      "metadata": {
        "id": "19V-FCuf8zdr"
      },
      "source": [
        "import random\n",
        "\n",
        "layers = [\"mixed3a\", \n",
        "          \"mixed3b\", \n",
        "          \"mixed4a\", \n",
        "          \"mixed4c\", \n",
        "          \"mixed5a\"]\n",
        "\n",
        "def random_octave():\n",
        "  return random.randint(1, 10)\n",
        "\n",
        "def random_octave_scale():\n",
        "  return random.uniform(1.0, 1.9)\n",
        "\n",
        "def random_iter_n():\n",
        "  return random.randint(1, 50)\n",
        "\n",
        "def random_strength():\n",
        "  return random.randint(1, 1000)\n",
        "\n",
        "def random_layer():\n",
        "  layerNum = random.randint(0, len(layers)-1)\n",
        "  return(layers[layerNum])"
      ],
      "execution_count": null,
      "outputs": []
    },
    {
      "cell_type": "markdown",
      "metadata": {
        "id": "ASGQWkM-Aq-x"
      },
      "source": [
        "### Now let's start generating more and more Deep Dream images"
      ]
    },
    {
      "cell_type": "markdown",
      "metadata": {
        "id": "ctaywDpcvgf1"
      },
      "source": [
        "First, we define an input path. This should lead to a folder with one or more. \n",
        "We also need an output path: a folder where the created images will be saved. \n"
      ]
    },
    {
      "cell_type": "code",
      "metadata": {
        "id": "FWlYRtk347Lb"
      },
      "source": [
        "#Input and Output Paths \n",
        "input_path = \"/content/input\"\n",
        "output_path = \"/content/output\""
      ],
      "execution_count": null,
      "outputs": []
    },
    {
      "cell_type": "markdown",
      "metadata": {
        "id": "OjGFOhNYwOSC"
      },
      "source": [
        "We can also specify how many Deep Dream variants should be created per image. \n",
        "\n",
        "All files from the input folder are then processed and a corresponding number of image variations are generated for each image. \n",
        "\n",
        "We can also specify at which image in the folder we want to start. "
      ]
    },
    {
      "cell_type": "code",
      "metadata": {
        "id": "wF2WqZvxwKAq"
      },
      "source": [
        "image_variations = 3\n",
        "startWithImage = 0"
      ],
      "execution_count": null,
      "outputs": []
    },
    {
      "cell_type": "markdown",
      "metadata": {
        "id": "1k3Djnr1w6Zm"
      },
      "source": [
        "Now let's start generating images! "
      ]
    },
    {
      "cell_type": "code",
      "metadata": {
        "id": "shRK2WXB-xkp"
      },
      "source": [
        "dirs = os.listdir( input_path )\n",
        "dirs = dirs[(startWithImage-1):]\n",
        "\n",
        "for image in dirs:\n",
        "  if not image.startswith('.'):\n",
        "    for i in range(image_variations):\n",
        "      file_contents = open(os.path.join(input_path, image)).read()  \n",
        "      #print(file_contents)\n",
        "      img0 = sess.run(tf.image.decode_image(file_contents))\n",
        "\n",
        "      octave_n = random_octave() \n",
        "      octave_scale =  random_octave_scale()\n",
        "      iter_n = random_iter_n() \n",
        "      strength = random_strength() \n",
        "      layer = random_layer()\n",
        "\n",
        "      final = render_deepdream(tf.square(T(layer)), img0)\n",
        "\n",
        "      final = np.uint8(np.clip(final, 0, 255))\n",
        "      PIL.Image.fromarray(final).save(os.path.join(output_path, os.path.splitext(image)[0] + \"_dd0\" + str(i) + \".png\"))\n",
        "print(\"done.\")"
      ],
      "execution_count": null,
      "outputs": []
    },
    {
      "cell_type": "markdown",
      "metadata": {
        "id": "LHTXPOax0huv"
      },
      "source": [
        "Do you need to move the output folder somewhere?"
      ]
    },
    {
      "cell_type": "code",
      "metadata": {
        "id": "NX0k7k5IDy0T"
      },
      "source": [
        "import shutil\n",
        "\n",
        "original = output_path\n",
        "target = r'/content/drive/My Drive/Bachelorarbeit/testData'\n",
        "\n",
        "shutil.move(original,target)\n",
        "os.mkdir(original)"
      ],
      "execution_count": null,
      "outputs": []
    }
  ]
}